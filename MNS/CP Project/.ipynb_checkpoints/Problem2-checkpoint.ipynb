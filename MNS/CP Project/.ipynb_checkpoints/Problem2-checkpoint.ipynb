{
 "cells": [
  {
   "cell_type": "markdown",
   "metadata": {},
   "source": [
    "### Implement the Hodgkin-Huxley model"
   ]
  },
  {
   "cell_type": "markdown",
   "metadata": {},
   "source": [
    "## $c_m \\frac{\\partial V}{\\partial t} = \\frac{1}{2ar_L} \\frac{\\partial}{\\partial x} (a^2 \\frac{\\partial V}{\\partial x}) - i_m + i_e$"
   ]
  },
  {
   "cell_type": "markdown",
   "metadata": {},
   "source": [
    "where:"
   ]
  },
  {
   "cell_type": "markdown",
   "metadata": {},
   "source": [
    "## $i_m = \\bar{g}_L (V-E_L) + \\bar{g}_{Na} m^3 h (V-E_{Na}) + \\bar{g}_{K} n^4 (V-E_{K})$"
   ]
  },
  {
   "cell_type": "markdown",
   "metadata": {},
   "source": [
    "and gating variables:"
   ]
  },
  {
   "cell_type": "markdown",
   "metadata": {},
   "source": [
    "## $\\frac{dx}{dt} = \\alpha_x (V) (1-x) - \\beta_x (V) n$"
   ]
  },
  {
   "cell_type": "markdown",
   "metadata": {},
   "source": [
    "## $\\alpha_n (V) = \\frac{0.01 (10-V)}{exp \\ (\\frac{10-V}{10}) - 1} \\quad \\alpha_m (V) = \\frac{0.1(25-V)}{exp \\ (\\frac{25-V}{10})-1} \\quad \\alpha_h (V) = 0.07 \\ exp \\ (\\frac{-V}{20})$"
   ]
  },
  {
   "cell_type": "markdown",
   "metadata": {},
   "source": [
    "## $\\beta_n (V) = 0.125 \\ exp \\ (\\frac{-V}{80}) \\quad \\beta_m (V) = 4 \\ exp \\ (\\frac{-V}{18}) \\quad \\beta_h (V) = \\frac{1}{exp \\ (\\frac{30-V}{10}) + 1}$"
   ]
  },
  {
   "cell_type": "markdown",
   "metadata": {},
   "source": [
    "# -------------------------------------------------------------------------------"
   ]
  },
  {
   "cell_type": "code",
   "execution_count": null,
   "metadata": {},
   "outputs": [],
   "source": []
  }
 ],
 "metadata": {
  "kernelspec": {
   "display_name": "Python 3",
   "language": "python",
   "name": "python3"
  },
  "language_info": {
   "codemirror_mode": {
    "name": "ipython",
    "version": 3
   },
   "file_extension": ".py",
   "mimetype": "text/x-python",
   "name": "python",
   "nbconvert_exporter": "python",
   "pygments_lexer": "ipython3",
   "version": "3.7.0"
  }
 },
 "nbformat": 4,
 "nbformat_minor": 2
}
