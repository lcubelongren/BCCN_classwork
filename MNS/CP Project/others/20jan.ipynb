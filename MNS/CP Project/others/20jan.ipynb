{
 "cells": [
  {
   "cell_type": "code",
   "execution_count": 1,
   "metadata": {},
   "outputs": [],
   "source": [
    "import numpy as np\n",
    "import matplotlib.pyplot as plt\n",
    "from tqdm import tqdm"
   ]
  },
  {
   "cell_type": "markdown",
   "metadata": {},
   "source": [
    "### Classes"
   ]
  },
  {
   "cell_type": "markdown",
   "metadata": {},
   "source": [
    "#### Model class"
   ]
  },
  {
   "cell_type": "code",
   "execution_count": 2,
   "metadata": {},
   "outputs": [],
   "source": [
    "class Model:\n",
    "    \"\"\"This class is used to store information about the model\n",
    "    \n",
    "    Function Parameters stores voltages and conductances: Ek, gk, Ena, gna, Eleak, gleak\n",
    "    Function Cable stores cable parameters: a, rL, L, Cm\n",
    "    Function Initial_values stores initial values: n, m, h, V\n",
    "    Functions for calculating alpha and beta are named by the following rule:\n",
    "    alpha_n -> an, beta_n -> bn\n",
    "    \"\"\"\n",
    "    def Parameters(self, Ek, gk, Ena, gna, Eleak, gleak):\n",
    "        \"\"\"This function is used to store voltages and conductances\n",
    "        \n",
    "        Parameters: Ek, gk, Ena, gna, Eleak, gleak\n",
    "        stores voltages in V, condctances in S/m2\n",
    "        \"\"\"\n",
    "        self.Ek = Ek\n",
    "        self.gk = gk\n",
    "        self.Ena = Ena\n",
    "        self.gna = gna\n",
    "        self.Eleak = Eleak\n",
    "        self.gleak = gleak\n",
    "        \n",
    "    def Cable(self, a, rL, L, Cm):\n",
    "        \"\"\"This function is used to store cable parameters\n",
    "        \n",
    "        a = axon radius, in meters\n",
    "        rL = intracellular resistivity, in Om m\n",
    "        L = compartment length, in meters\n",
    "        Cm = membrane capacitance, in F\n",
    "        \"\"\"\n",
    "        self.a = a\n",
    "        self.rL = rL\n",
    "        self.L = L\n",
    "        self.Cm = Cm\n",
    "        self.A = 2 * np.pi * a * L\n",
    "        self.g = a / (2 * rL * L * L)\n",
    "        \n",
    "    def Myelin(self, ranvier, interval, length, toggle):\n",
    "        \"\"\"This function defines how many compartments the model has and which ones are myelinated\n",
    "        \n",
    "        ranvier = length of Ranvier node\n",
    "        interval = interval between beggining of nodes\n",
    "        length = length of axon\n",
    "        all parameters are in meters\n",
    "        \n",
    "        function returns variable Mask, an M length array\n",
    "        \"\"\"\n",
    "        self.M = int(length / self.L)\n",
    "        R = int(ranvier / self.L)\n",
    "        I = int(interval / self.L)\n",
    "        self.Mask = np.zeros(self.M)\n",
    "        if toggle == True:\n",
    "            for i in range(self.M):\n",
    "                if i % I >= R: self.Mask[i] = 1;\n",
    "        \n",
    "        \n",
    "    def Initial_values(self, n0, m0, h0, V0):\n",
    "        \"\"\"This function is used to store the initial values\n",
    "        \n",
    "        Values: n0, m0, h0, V0\n",
    "        \"\"\"\n",
    "        self.n = n0\n",
    "        self.m = m0\n",
    "        self.h = h0\n",
    "        self.V = V0\n",
    "        \n",
    "        \n",
    "    # Alpha and Beta\n",
    "    def an(V):\n",
    "        return np.divide(10000*(V + 0.055), 1 - np.exp(-100*(V + 0.055)));\n",
    "\n",
    "    def bn(V):\n",
    "        return 125 * np.exp(-12.5*(V + 0.065));\n",
    "\n",
    "    def am(V):\n",
    "        return np.divide(100000*(V + 0.040), 1 - np.exp(-100*(V + 0.040)));\n",
    "\n",
    "    def bm(V):\n",
    "        return 4000 * np.exp(-55.6*(V + 0.065));\n",
    "\n",
    "    def ah(V):\n",
    "        return 70 * np.exp(-50*(V + 0.065));\n",
    "\n",
    "    def bh(V):\n",
    "        return np.divide(1000, 1 + np.exp(-100*(V +0.035)));"
   ]
  },
  {
   "cell_type": "markdown",
   "metadata": {},
   "source": [
    "#### Results"
   ]
  },
  {
   "cell_type": "code",
   "execution_count": 3,
   "metadata": {},
   "outputs": [],
   "source": [
    "class Results:\n",
    "    \"\"\"This class is used to store the results after running the HH function\n",
    "    \n",
    "    Inputs: n, m, h, V, Ik, Ina\n",
    "    \"\"\"\n",
    "    def __init__(self, n, m, h, V):\n",
    "        self.n = n\n",
    "        self.m = m\n",
    "        self.h = h\n",
    "        self.V = V"
   ]
  },
  {
   "cell_type": "markdown",
   "metadata": {},
   "source": [
    "### Functions"
   ]
  },
  {
   "cell_type": "markdown",
   "metadata": {},
   "source": [
    "#### Crank-Nicholson"
   ]
  },
  {
   "cell_type": "code",
   "execution_count": 4,
   "metadata": {},
   "outputs": [],
   "source": [
    "def C_N(dt, M, Cm, g, A, gm, I, Ie, V):\n",
    "    \"\"\"This function calculates dV using the Crank-Nicholson method\n",
    "    \n",
    "    dt = timestep, in seconds\n",
    "    M = number of compartments\n",
    "    Cm = membrane capacitance, in F\n",
    "    g = resistive coupling, in S\n",
    "    A = compartment surface area\n",
    "    gm = sum of gi\n",
    "    I = sum of gi * Ei\n",
    "    Ie = current input\n",
    "    V = potential\n",
    "    \n",
    "    Function uses the method described in Chapter 6.6B from Dayan and Abbott, 2005\n",
    "    returns one variable, V_new\n",
    "    \"\"\"\n",
    "    z = 0.5 # Crank-Nicholson\n",
    "    \n",
    "    ### Helper variables ###\n",
    "    b = np.zeros(M)\n",
    "    c = np.zeros(M)\n",
    "    d = np.zeros(M)\n",
    "    f = np.zeros(M)\n",
    "    \n",
    "    b[1:M] = g * z * dt / Cm[1:M]\n",
    "    d[0:M-1] = g * z * dt / Cm[0:M-1]\n",
    "    c = -gm*z*dt/Cm - b - d\n",
    "    f = (I + Ie/A)/Cm * z * dt + c * V\n",
    "    for i in range(M-1):\n",
    "        f[i+1] += b[i+1] * V[i]\n",
    "        f[i] += d[i] * V[i+1]\n",
    "    f = f*2 # getting rid of z\n",
    "    \n",
    "    ### Forward prop ###\n",
    "    c1 = np.zeros(M)\n",
    "    f1 = np.zeros(M)\n",
    "    \n",
    "    c1[0] = c[0]\n",
    "    f1[0] = f[0]\n",
    "    \n",
    "    for i in range(M-1):\n",
    "        c1[i+1] = c[i+1] + b[i+1] * d[i] / (1-c1[i])\n",
    "        f1[i+1] = f[i+1] + b[i+1] * f1[i] / (1-c1[i])\n",
    "        \n",
    "    ### Backprop ###\n",
    "    dV = np.zeros(M)\n",
    "    \n",
    "    dV[M-1] = f1[M-1] / (1-c1[M-1])\n",
    "    \n",
    "    for i in range(M-2, -1, -1):\n",
    "        dV[i] = (d[i] * dV[i+1] + f1[i]) / (1-c1[i])\n",
    "    return V + dV"
   ]
  },
  {
   "cell_type": "markdown",
   "metadata": {},
   "source": [
    "#### Hodgkin-Huxley function"
   ]
  },
  {
   "cell_type": "code",
   "execution_count": 5,
   "metadata": {},
   "outputs": [],
   "source": [
    "def HH(tmax, dt, model, Ie):\n",
    "    \"\"\"Calculates the dynamics of the Hodgkin-Huxley model\n",
    "    \n",
    "    Input:\n",
    "    tmax = maximum time, in s\n",
    "    dt = time step, in s\n",
    "    model = model parameters(g and E), cable parameters(a, rL, L, Cm) and initial values(n, m, h, V), class Model\n",
    "    model also contains the functions needed to calculate alpha and beta\n",
    "    Ie = current input, in A\n",
    "    \n",
    "    Output:\n",
    "    \n",
    "    \"\"\"\n",
    "    # Creating the arrays\n",
    "    N = int(tmax / dt)\n",
    "    M = model.M\n",
    "    n = np.zeros((M, N+1))\n",
    "    m = np.zeros((M, N+1))\n",
    "    h = np.zeros((M, N+1))\n",
    "    V = np.zeros((M, N+1))\n",
    "    gk = np.zeros(M)\n",
    "    gna = np.zeros(M)\n",
    "    gl = np.zeros(M)\n",
    "    Cm = np.zeros(M) \n",
    "    gm = np.zeros(M)\n",
    "    I = np.zeros(M)\n",
    "    \n",
    "    # Initial values\n",
    "    n[:, 0] = model.n\n",
    "    m[:, 0] = model.m\n",
    "    h[:, 0] = model.h\n",
    "    V[:, 0] = model.V\n",
    "    Cm[:] = model.Cm\n",
    "    for j in range(M):\n",
    "        if  model.Mask[j] == 1: Cm[j] /= 50;\n",
    "            \n",
    "    for i in range(N):\n",
    "\n",
    "        ### Membrane conductance ###\n",
    "        # Potassium\n",
    "        n[:, i+1] = n[:, i] + (model.an(V[:, i]))*(1 - n[:, i])*dt - (model.bn(V[:, i]))*n[:, i]*dt;\n",
    "        gk[:] = model.gk * np.power(n[:, i], 4)\n",
    "\n",
    "        # Sodium\n",
    "        m[:, i+1] = m[:, i] + (model.am(V[:, i]))*(1 - m[:, i])*dt - (model.bm(V[:, i]))*m[:, i]*dt;\n",
    "        h[:, i+1] = h[:, i] + (model.ah(V[:, i]))*(1 - h[:, i])*dt - (model.bh(V[:, i]))*h[:, i]*dt;\n",
    "        gna[:] = model.gna * np.power(m[:, i], 3) * h[:, i] \n",
    "\n",
    "        # Leak\n",
    "        gl[:] = model.gleak\n",
    "        \n",
    "            \n",
    "        ### Voltage ###\n",
    "        gm = gk + gna + gl\n",
    "        I = gk * model.Ek + gna * model.Ena + gl * model.Eleak\n",
    "        for j in range(M):  \n",
    "            if model.Mask[j] == 1: gm[j] /= 5000; I[j] /= 5000; # Myelin increases resistance by 5000\n",
    "        \n",
    "        V[:, i+1] = C_N(dt=dt, M=M, Cm=Cm, g=model.g, A=model.A, gm=gm, I=I, Ie=Ie[:, i], V=V[:, i])\n",
    "            \n",
    "    # Storing results\n",
    "    results = Results(n=n, m=m, h=h, V=V)\n",
    "    \n",
    "    return results"
   ]
  },
  {
   "cell_type": "code",
   "execution_count": 6,
   "metadata": {},
   "outputs": [],
   "source": [
    "# Time variables\n",
    "tmax = 0.01 # s\n",
    "dt = 0.00001 # s\n",
    "N = int(tmax / dt)+1\n",
    "t = np.linspace(0, tmax, N)"
   ]
  },
  {
   "cell_type": "markdown",
   "metadata": {},
   "source": [
    "#### Multiple compartments"
   ]
  },
  {
   "cell_type": "code",
   "execution_count": 7,
   "metadata": {},
   "outputs": [],
   "source": [
    "model_myelin = Model\n",
    "model_myelin.Parameters(self=model_myelin, Ek=-0.077, gk=360, Ena=0.050, gna=1200, Eleak=-0.054387, gleak=3)\n",
    "model_myelin.Initial_values(self=model_myelin, n0=0.3177, m0=0.0529, h0=0.5961, V0=-0.065)\n",
    "model_myelin.Cable(self=model_myelin, a=238e-06, rL=0.354, L=1e-06, Cm=0.01)\n",
    "model_myelin.Myelin(self=model_myelin, ranvier=2e-06, interval=1e-03, length=5e-03, toggle=False)"
   ]
  },
  {
   "cell_type": "markdown",
   "metadata": {},
   "source": [
    "### 3. Initiate an action potential on one end of the axon by injecting a current in the terminal compartment."
   ]
  },
  {
   "cell_type": "markdown",
   "metadata": {},
   "source": [
    "### 4. Determine the action potential propagation velocity as a function of the axon radius."
   ]
  },
  {
   "cell_type": "code",
   "execution_count": 8,
   "metadata": {},
   "outputs": [
    {
     "name": "stderr",
     "output_type": "stream",
     "text": [
      "100%|████████████████████████████████████████████████████████████████████████████████████| 2/2 [02:40<00:00, 80.12s/it]\n"
     ]
    },
    {
     "data": {
      "image/png": "[encoded data removed]",
      "text/plain": [
       "<Figure size 1440x720 with 1 Axes>"
      ]
     },
     "metadata": {
      "needs_background": "light"
     },
     "output_type": "display_data"
    }
   ],
   "source": [
    "fig = plt.figure(figsize=(20, 10))\n",
    "ax = fig.add_subplot(1, 1, 1)\n",
    "\n",
    "Ie = np.zeros((model_myelin.M, N))\n",
    "Ie[0,0:40] = 400e-12 #initiate current injection\n",
    "\n",
    "sample = np.linspace(1,2,2,dtype=int)\n",
    "apt = np.zeros(len(sample)) #action potential time\n",
    "apd = np.zeros(len(sample)) #action potential distance\n",
    "a = np.zeros(len(sample)) #axon radius\n",
    "\n",
    "for i in tqdm(sample):\n",
    "    a[i-1] = i * 5e-06\n",
    "    model_myelin.Cable(self=model_myelin, a=a[i-1], rL=0.354, L=1e-06, Cm=0.01)\n",
    "    results_m = HH(tmax=tmax, dt=dt, model=model_myelin, Ie=Ie)\n",
    "    ax.plot(t, results_m.V[0],label='%r'%a[i-1])\n",
    "    ax.legend(title='axon radius')\n",
    "    apt[i-1] = np.argmax(results_m.V[0])\n",
    "    apd[i-1] = results_m.V[0][int(apt[i-1])]"
   ]
  },
  {
   "cell_type": "code",
   "execution_count": 9,
   "metadata": {},
   "outputs": [
    {
     "data": {
      "image/png": "[encoded data removed]",
      "text/plain": [
       "<Figure size 720x360 with 1 Axes>"
      ]
     },
     "metadata": {
      "needs_background": "light"
     },
     "output_type": "display_data"
    }
   ],
   "source": [
    "#print(apt)\n",
    "#print(apd)\n",
    "fig = plt.figure(figsize=(10, 5))\n",
    "ax = fig.add_subplot(1, 1, 1)\n",
    "ax.plot(a,apd/(apt*dt))\n",
    "ax.set_ylabel('action potential propagation velocity []')\n",
    "ax.set_xlabel('axon radius [µm]')\n",
    "ax.grid()\n",
    "plt.show()"
   ]
  },
  {
   "cell_type": "code",
   "execution_count": null,
   "metadata": {},
   "outputs": [],
   "source": []
  }
 ],
 "metadata": {
  "kernelspec": {
   "display_name": "Python 3",
   "language": "python",
   "name": "python3"
  },
  "language_info": {
   "codemirror_mode": {
    "name": "ipython",
    "version": 3
   },
   "file_extension": ".py",
   "mimetype": "text/x-python",
   "name": "python",
   "nbconvert_exporter": "python",
   "pygments_lexer": "ipython3",
   "version": "3.7.0"
  }
 },
 "nbformat": 4,
 "nbformat_minor": 2
}
