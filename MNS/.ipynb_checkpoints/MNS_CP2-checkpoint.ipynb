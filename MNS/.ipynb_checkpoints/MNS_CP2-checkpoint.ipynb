{
 "cells": [
  {
   "cell_type": "markdown",
   "metadata": {},
   "source": [
    "## Hopfield Network - Longren"
   ]
  },
  {
   "cell_type": "code",
   "execution_count": 1,
   "metadata": {},
   "outputs": [],
   "source": [
    "import numpy as np\n",
    "import matplotlib.pyplot as plt\n",
    "\n",
    "%matplotlib inline\n",
    "from IPython.display import set_matplotlib_formats\n",
    "set_matplotlib_formats('png', 'pdf')"
   ]
  },
  {
   "cell_type": "markdown",
   "metadata": {},
   "source": [
    "## Tasks:"
   ]
  },
  {
   "cell_type": "code",
   "execution_count": 2,
   "metadata": {},
   "outputs": [
    {
     "name": "stdout",
     "output_type": "stream",
     "text": [
      "weights for pattern A:\n",
      "[[ 0. -1.  1. -1.]\n",
      " [-1.  0. -1.  1.]\n",
      " [ 1. -1.  0. -1.]\n",
      " [-1.  1. -1.  0.]]\n",
      "weights for pattern B:\n",
      "[[ 0. -1. -1. -1.]\n",
      " [-1.  0.  1.  1.]\n",
      " [-1.  1.  0.  1.]\n",
      " [-1.  1.  1.  0.]]\n",
      "weights for pattern C:\n",
      "[[ 0.  1.  1. -1.]\n",
      " [ 1.  0.  1. -1.]\n",
      " [ 1.  1.  0. -1.]\n",
      " [-1. -1. -1.  0.]]\n"
     ]
    }
   ],
   "source": [
    "# 1. Store the patterns in the Hopfield network\n",
    "\n",
    "'pattern A'\n",
    "SA = [1,-1,1,-1]\n",
    "\n",
    "'pattern B'\n",
    "SB = [-1,1,1,1]\n",
    "\n",
    "'pattern C'\n",
    "SC = [-1,-1,-1,1]\n",
    "\n",
    "N = 3 #number of patterns\n",
    "K = 4 #number of units\n",
    "\n",
    "WA = np.zeros([K,K]) #empty weight matrix\n",
    "WB = np.zeros([K,K])\n",
    "WC = np.zeros([K,K])\n",
    "\n",
    "def weight_int(W,S): #weight initialization\n",
    "    \n",
    "    for i in range(K): #for each row\n",
    "        \n",
    "        for j in range(K): #for each column\n",
    "            \n",
    "            W[i][j] = S[i] * S[j] #calculate weights for i != j\n",
    "            W[j][j] = 0 #set weights i = j to zero\n",
    "            \n",
    "    return W\n",
    "\n",
    "\n",
    "WA = weight_int(WA,SA)\n",
    "print('weights for pattern A:')\n",
    "print(WA)\n",
    "WB = weight_int(WB,SB)\n",
    "print('weights for pattern B:')\n",
    "print(WB)\n",
    "WC = weight_int(WC,SC)\n",
    "print('weights for pattern C:')\n",
    "print(WC)\n"
   ]
  },
  {
   "cell_type": "code",
   "execution_count": 8,
   "metadata": {},
   "outputs": [
    {
     "name": "stdout",
     "output_type": "stream",
     "text": [
      "original pattern A:\n",
      "[1, -1, 1, -1]\n"
     ]
    },
    {
     "ename": "TypeError",
     "evalue": "'int' object is not iterable",
     "output_type": "error",
     "traceback": [
      "\u001b[1;31m---------------------------------------------------------------------------\u001b[0m",
      "\u001b[1;31mTypeError\u001b[0m                                 Traceback (most recent call last)",
      "\u001b[1;32m<ipython-input-8-b5cd3469f7a1>\u001b[0m in \u001b[0;36m<module>\u001b[1;34m\u001b[0m\n\u001b[0;32m     25\u001b[0m \u001b[0mprint\u001b[0m\u001b[1;33m(\u001b[0m\u001b[1;34m'original pattern A:'\u001b[0m\u001b[1;33m)\u001b[0m\u001b[1;33m\u001b[0m\u001b[0m\n\u001b[0;32m     26\u001b[0m \u001b[0mprint\u001b[0m\u001b[1;33m(\u001b[0m\u001b[0mSA\u001b[0m\u001b[1;33m)\u001b[0m\u001b[1;33m\u001b[0m\u001b[0m\n\u001b[1;32m---> 27\u001b[1;33m \u001b[0mZA\u001b[0m \u001b[1;33m=\u001b[0m \u001b[0munit_input\u001b[0m\u001b[1;33m(\u001b[0m\u001b[0mZA\u001b[0m\u001b[1;33m,\u001b[0m\u001b[0mWA\u001b[0m\u001b[1;33m,\u001b[0m\u001b[0mSA\u001b[0m\u001b[1;33m)\u001b[0m\u001b[1;33m\u001b[0m\u001b[0m\n\u001b[0m\u001b[0;32m     28\u001b[0m \u001b[0mprint\u001b[0m\u001b[1;33m(\u001b[0m\u001b[1;34m'new pattern A:'\u001b[0m\u001b[1;33m)\u001b[0m\u001b[1;33m\u001b[0m\u001b[0m\n\u001b[0;32m     29\u001b[0m \u001b[0mprint\u001b[0m\u001b[1;33m(\u001b[0m\u001b[0mZA\u001b[0m\u001b[1;33m)\u001b[0m\u001b[1;33m\u001b[0m\u001b[0m\n",
      "\u001b[1;32m<ipython-input-8-b5cd3469f7a1>\u001b[0m in \u001b[0;36munit_input\u001b[1;34m(Z, W, S)\u001b[0m\n\u001b[0;32m      7\u001b[0m \u001b[1;32mdef\u001b[0m \u001b[0munit_input\u001b[0m\u001b[1;33m(\u001b[0m\u001b[0mZ\u001b[0m\u001b[1;33m,\u001b[0m\u001b[0mW\u001b[0m\u001b[1;33m,\u001b[0m\u001b[0mS\u001b[0m\u001b[1;33m)\u001b[0m\u001b[1;33m:\u001b[0m \u001b[1;31m#apply stored pattern as input\u001b[0m\u001b[1;33m\u001b[0m\u001b[0m\n\u001b[0;32m      8\u001b[0m \u001b[1;33m\u001b[0m\u001b[0m\n\u001b[1;32m----> 9\u001b[1;33m     \u001b[1;32mfor\u001b[0m \u001b[0mi\u001b[0m \u001b[1;32min\u001b[0m \u001b[0mnp\u001b[0m\u001b[1;33m.\u001b[0m\u001b[0mrandom\u001b[0m\u001b[1;33m.\u001b[0m\u001b[0mrandint\u001b[0m\u001b[1;33m(\u001b[0m\u001b[1;36m1\u001b[0m\u001b[1;33m,\u001b[0m\u001b[1;36m5\u001b[0m\u001b[1;33m)\u001b[0m\u001b[1;33m:\u001b[0m\u001b[1;33m\u001b[0m\u001b[0m\n\u001b[0m\u001b[0;32m     10\u001b[0m \u001b[1;33m\u001b[0m\u001b[0m\n\u001b[0;32m     11\u001b[0m         \u001b[1;32mfor\u001b[0m \u001b[0mj\u001b[0m \u001b[1;32min\u001b[0m \u001b[0mrange\u001b[0m\u001b[1;33m(\u001b[0m\u001b[0mK\u001b[0m\u001b[1;33m)\u001b[0m\u001b[1;33m:\u001b[0m\u001b[1;33m\u001b[0m\u001b[0m\n",
      "\u001b[1;31mTypeError\u001b[0m: 'int' object is not iterable"
     ]
    }
   ],
   "source": [
    "# 1. Which of the patterns are stable states of the network dynamics?\n",
    "\n",
    "ZA = np.zeros([K]) #empty input array\n",
    "ZB = np.zeros([K])\n",
    "ZC = np.zeros([K])\n",
    "\n",
    "def unit_input(Z,W,S): #apply stored pattern as input\n",
    "    \n",
    "    for i in range(K):\n",
    "        \n",
    "        for j in range(K):\n",
    "            \n",
    "            Z[i] = np.sum(W[i][j] * S[j])\n",
    "            \n",
    "            if Z[i] >= 0:\n",
    "                \n",
    "                Z[i] = 1\n",
    "                \n",
    "            elif Z[i] < 0:\n",
    "                \n",
    "                Z[i] = -1    \n",
    "                \n",
    "    return Z\n",
    "\n",
    "print('original pattern A:')\n",
    "print(SA)\n",
    "ZA = unit_input(ZA,WA,SA)\n",
    "print('new pattern A:')\n",
    "print(ZA)\n",
    "\n",
    "print('original pattern B:')\n",
    "print(SB)\n",
    "ZB = unit_input(ZB,WB,SB)\n",
    "print('new pattern B:')\n",
    "print(ZB)\n",
    "\n",
    "print('original pattern C:')\n",
    "print(SC)\n",
    "ZC = unit_input(ZC,WC,SC)\n",
    "print('new pattern C:')\n",
    "print(ZC)\n"
   ]
  },
  {
   "cell_type": "markdown",
   "metadata": {},
   "source": [
    "The results of applying the stored pattern as an input resulted in pattern B & C resulting in a stable state and pattern A being unstable."
   ]
  },
  {
   "cell_type": "code",
   "execution_count": 4,
   "metadata": {},
   "outputs": [
    {
     "name": "stdout",
     "output_type": "stream",
     "text": [
      "original pattern A:\n",
      "[1, -1, 1, -1]\n",
      "second pattern A:\n",
      "[ 1. -1.  1.  1.]\n",
      "third pattern A:\n",
      "[-1.  1. -1.  1.]\n"
     ]
    }
   ],
   "source": [
    "#let's run pattern A again and see where it converges to\n",
    "\n",
    "ZA = np.zeros([K])\n",
    "\n",
    "print('original pattern A:')\n",
    "print(SA)\n",
    "ZA = unit_input(ZA,WA,SA) #updated pattern\n",
    "print('second pattern A:')\n",
    "print(ZA)\n",
    "ZA = unit_input(ZA,WA,ZA)\n",
    "print('third pattern A:')\n",
    "print(ZA)\n"
   ]
  },
  {
   "cell_type": "markdown",
   "metadata": {},
   "source": [
    "We can see now that pattern A converges to -P, the negative of the original pattern."
   ]
  },
  {
   "cell_type": "code",
   "execution_count": 5,
   "metadata": {},
   "outputs": [
    {
     "name": "stdout",
     "output_type": "stream",
     "text": [
      "original pattern\n",
      "[-1, -1, -1, 1]\n",
      "weights\n",
      "[[ 0.  1.  1. -1.]\n",
      " [ 1.  0.  1. -1.]\n",
      " [ 1.  1.  0. -1.]\n",
      " [-1. -1. -1.  0.]]\n",
      "updated pattern\n",
      "[-1. -1. -1.  1.]\n",
      "energy -12.0\n",
      "[[-0. -1. -1. -1.]\n",
      " [-1. -0. -1. -1.]\n",
      " [-1. -1. -0. -1.]\n",
      " [-1. -1. -1. -0.]]\n",
      "\n",
      "updated pattern\n",
      "[-1. -1. -1.  1.]\n",
      "energy -12.0\n",
      "[[-0. -1. -1. -1.]\n",
      " [-1. -0. -1. -1.]\n",
      " [-1. -1. -0. -1.]\n",
      " [-1. -1. -1. -0.]]\n",
      "\n",
      "updated pattern\n",
      "[-1. -1. -1.  1.]\n",
      "energy -12.0\n",
      "[[-0. -1. -1. -1.]\n",
      " [-1. -0. -1. -1.]\n",
      " [-1. -1. -0. -1.]\n",
      " [-1. -1. -1. -0.]]\n",
      "\n"
     ]
    }
   ],
   "source": [
    "# 2. Calculate the energy function for the network\n",
    "\n",
    "#loop through iterations\n",
    "\n",
    "'pattern A'\n",
    "SA = [1,-1,1,-1]\n",
    "\n",
    "'pattern B'\n",
    "SB = [-1,1,1,1]\n",
    "\n",
    "'pattern C'\n",
    "SC = [-1,-1,-1,1]\n",
    "\n",
    "W = np.zeros([K,K])\n",
    "Z = np.zeros([K])\n",
    "E = np.zeros([K,K])\n",
    "\n",
    "S = SC\n",
    "print('original pattern')\n",
    "print(S)\n",
    "\n",
    "W = weight_int(W,S)\n",
    "print('weights')\n",
    "print(W)\n",
    "\n",
    "def energy(E,W,S): #energy function\n",
    "    \n",
    "    for i in range(K):\n",
    "        \n",
    "        for j in range(K):\n",
    "            \n",
    "            E[i][j] = -1 * np.sum(W[i][j] * np.dot(Z[i],Z[j]))\n",
    "            \n",
    "    return E\n",
    "    \n",
    "for _ in range(3):\n",
    "    \n",
    "    Z = unit_input(Z,W,S)\n",
    "    E = energy(E,W,S)\n",
    "\n",
    "\n",
    "    print('updated pattern')\n",
    "    print(Z)\n",
    "    print('energy',np.sum(E))\n",
    "    print(E)\n",
    "    print('')\n",
    "    "
   ]
  },
  {
   "cell_type": "code",
   "execution_count": 6,
   "metadata": {},
   "outputs": [],
   "source": [
    "# 3. Reuse the code to store and recall image patterns\n"
   ]
  },
  {
   "cell_type": "code",
   "execution_count": null,
   "metadata": {},
   "outputs": [],
   "source": []
  }
 ],
 "metadata": {
  "kernelspec": {
   "display_name": "Python 3",
   "language": "python",
   "name": "python3"
  },
  "language_info": {
   "codemirror_mode": {
    "name": "ipython",
    "version": 3
   },
   "file_extension": ".py",
   "mimetype": "text/x-python",
   "name": "python",
   "nbconvert_exporter": "python",
   "pygments_lexer": "ipython3",
   "version": "3.7.0"
  }
 },
 "nbformat": 4,
 "nbformat_minor": 2
}
