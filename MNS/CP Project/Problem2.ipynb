{
 "cells": [
  {
   "cell_type": "markdown",
   "metadata": {},
   "source": [
    "### Implement the Hodgkin-Huxley model"
   ]
  },
  {
   "cell_type": "markdown",
   "metadata": {},
   "source": [
    "## $c_m \\frac{\\partial V}{\\partial t} = \\frac{1}{2ar_L} \\frac{\\partial}{\\partial x} (a^2 \\frac{\\partial V}{\\partial x}) - i_m + i_e$"
   ]
  },
  {
   "cell_type": "markdown",
   "metadata": {},
   "source": [
    "where:"
   ]
  },
  {
   "cell_type": "markdown",
   "metadata": {},
   "source": [
    "## $i_m = \\bar{g}_L (V-E_L) + \\bar{g}_{Na} m^3 h (V-E_{Na}) + \\bar{g}_{K} n^4 (V-E_{K})$"
   ]
  },
  {
   "cell_type": "markdown",
   "metadata": {},
   "source": [
    "and gating variables:"
   ]
  },
  {
   "cell_type": "markdown",
   "metadata": {},
   "source": [
    "## $\\frac{dx}{dt} = \\alpha_x (V) (1-x) - \\beta_x (V) n$"
   ]
  },
  {
   "cell_type": "markdown",
   "metadata": {},
   "source": [
    "## $\\alpha_n (V) = \\frac{0.01 (10-V)}{exp \\ (\\frac{10-V}{10}) - 1} \\quad \\alpha_m (V) = \\frac{0.1(25-V)}{exp \\ (\\frac{25-V}{10})-1} \\quad \\alpha_h (V) = 0.07 \\ exp \\ (\\frac{-V}{20})$"
   ]
  },
  {
   "cell_type": "markdown",
   "metadata": {},
   "source": [
    "## $\\beta_n (V) = 0.125 \\ exp \\ (\\frac{-V}{80}) \\quad \\beta_m (V) = 4 \\ exp \\ (\\frac{-V}{18}) \\quad \\beta_h (V) = \\frac{1}{exp \\ (\\frac{30-V}{10}) + 1}$"
   ]
  },
  {
   "cell_type": "markdown",
   "metadata": {},
   "source": [
    "# -------------------------------------------------------------------------------"
   ]
  },
  {
   "cell_type": "code",
   "execution_count": 8,
   "metadata": {},
   "outputs": [],
   "source": [
    "import numpy as np\n",
    "import matplotlib.pyplot as plt"
   ]
  },
  {
   "cell_type": "code",
   "execution_count": 9,
   "metadata": {},
   "outputs": [],
   "source": [
    "def C_N(dt, M, Cm, g, A, gm, I, Ie, V):\n",
    "    \"\"\"This function calculates dV using the Crank-Nicholson method\n",
    "    \n",
    "    dt = timestep, in seconds\n",
    "    M = number of compartments\n",
    "    Cm = membrane capacitance, in F\n",
    "    g = resistive coupling, in S\n",
    "    A = compartment surface area\n",
    "    gm = sum of gi\n",
    "    I = sum of gi * Ei\n",
    "    Ie = current input\n",
    "    V = potential\n",
    "    \n",
    "    Function uses the method described in Chapter 6.6B from Dayan and Abbott, 2005\n",
    "    returns one variable, V_new\n",
    "    \"\"\"\n",
    "    z = 0.5 # Crank-Nicholson\n",
    "    \n",
    "    ### Helper variables ###\n",
    "    b = np.zeros(M)\n",
    "    c = np.zeros(M)\n",
    "    d = np.zeros(M)\n",
    "    f = np.zeros(M)\n",
    "    \n",
    "    b[1:M] = g * z * dt / Cm[1:M]\n",
    "    d[0:M-1] = g * z * dt / Cm[0:M-1]\n",
    "    c = -gm*z*dt/Cm - b - d\n",
    "    f = (I + Ie/A)/Cm * z * dt + c * V\n",
    "    for i in range(M-1):\n",
    "        f[i+1] += b[i+1] * V[i]\n",
    "        f[i] += d[i] * V[i+1]\n",
    "    f = f*2 # getting rid of z\n",
    "    \n",
    "    ### Forward prop ###\n",
    "    c1 = np.zeros(M)\n",
    "    f1 = np.zeros(M)\n",
    "    \n",
    "    c1[0] = c[0]\n",
    "    f1[0] = f[0]\n",
    "    \n",
    "    for i in range(M-1):\n",
    "        c1[i+1] = c[i+1] + b[i+1] * d[i] / (1-c1[i])\n",
    "        f1[i+1] = f[i+1] + b[i+1] * f1[i] / (1-c1[i])\n",
    "        \n",
    "    ### Backprop ###\n",
    "    dV = np.zeros(M)\n",
    "    \n",
    "    dV[M-1] = f1[M-1] / (1-c1[M-1])\n",
    "    \n",
    "    for i in range(M-2, -1, -1):\n",
    "        dV[i] = (d[i] * dV[i+1] + f1[i]) / (1-c1[i])\n",
    "        \n",
    "    return V + dV"
   ]
  },
  {
   "cell_type": "code",
   "execution_count": 10,
   "metadata": {},
   "outputs": [],
   "source": [
    "def HHM(I_na,I_k,I_leak,I_e,C_m):\n",
    "    dvdt = (1/C_m) * (-(I_na + I_k + I_leak) + I_e)\n",
    "    return dvdt\n",
    "\n",
    "def kinetics(x,alpha,beta):\n",
    "    dxdt = alpha * (1 - x) - beta * x\n",
    "    return dxdt"
   ]
  },
  {
   "cell_type": "code",
   "execution_count": 11,
   "metadata": {},
   "outputs": [],
   "source": [
    "def current_k(V,n,g_k,E_k):\n",
    "    current_k = g_k * (n**4) * (V - E_k)\n",
    "    return current_k\n",
    "\n",
    "def current_na(V,m,h,g_na,E_na):\n",
    "    current_na = g_na * (m**3) * h * (V - E_na)\n",
    "    return current_na\n",
    "\n",
    "def conductance_k()\n",
    "\n",
    "def alpha_n(V):\n",
    "    alpha = 0.01 * (V + 55) / (1 - np.exp(-0.1 * (V + 55)))\n",
    "    return alpha\n",
    "\n",
    "def alpha_m(V):\n",
    "    alpha = 0.1 * (V + 40) / (1 - exp(-0.1 * (V + 40)))\n",
    "    return alpha\n",
    "\n",
    "def alpha_h(V):\n",
    "    alpha = 0.07 * exp(-0.05 * (V + 65))\n",
    "    return alpha\n",
    "\n",
    "def beta_n(V):\n",
    "    beta = 0.125 * np.exp(-0.0125 * (V+65))\n",
    "    return beta\n",
    "\n",
    "def beta_m(V):\n",
    "    beta = 4 * exp(-0.0556 * (V + 65))\n",
    "    return beta\n",
    "\n",
    "def beta_h(V):\n",
    "    beta = 1 / (1 + exp(-0.1 * (V + 35)))\n",
    "    return beta"
   ]
  },
  {
   "cell_type": "code",
   "execution_count": 14,
   "metadata": {},
   "outputs": [],
   "source": [
    "def HHM_combined(initial, t, C_m, I_e, E_na, E_k, E_leak, g_na, g_k, g_leak): \n",
    "    \n",
    "    V,n,m,h = initial #initial values\n",
    "    \n",
    "    #calculate potassium current\n",
    "    kinetics_n = kinetics(n,alpha_n(V),beta_n(V))\n",
    "    I_k = current_k(V,n,g_k,E_k)\n",
    "    \n",
    "    #calculate sodium current\n",
    "    kinetics_m = kinetics(m,alpha_m(V),beta_m(V))\n",
    "    kinetics_h = kinetics(h,alpha_h(V),beta_h(V))\n",
    "    I_na = current_na(V,m,h,g_na,E_na)\n",
    "    \n",
    "    #calculate leak current\n",
    "    I_leak = current_leak(V,g_leak,E_leak)\n",
    "    \n",
    "    #calculate voltage \n",
    "    voltage = HHM(I_na,I_k,I_leak,I_e,C_m)\n",
    "    \n",
    "    return [voltage,kinetics_n,kinetics_m,kinetics_h]"
   ]
  },
  {
   "cell_type": "code",
   "execution_count": 21,
   "metadata": {},
   "outputs": [
    {
     "ename": "NameError",
     "evalue": "name 'gk' is not defined",
     "output_type": "error",
     "traceback": [
      "\u001b[1;31m---------------------------------------------------------------------------\u001b[0m",
      "\u001b[1;31mNameError\u001b[0m                                 Traceback (most recent call last)",
      "\u001b[1;32m<ipython-input-21-0d202c54e538>\u001b[0m in \u001b[0;36m<module>\u001b[1;34m\u001b[0m\n\u001b[0;32m     11\u001b[0m \u001b[0mr_L\u001b[0m \u001b[1;33m=\u001b[0m \u001b[1;36m35.4e-3\u001b[0m \u001b[1;31m#(ohm m)\u001b[0m\u001b[1;33m\u001b[0m\u001b[0m\n\u001b[0;32m     12\u001b[0m \u001b[0mg\u001b[0m \u001b[1;33m=\u001b[0m \u001b[0ma\u001b[0m \u001b[1;33m/\u001b[0m \u001b[1;33m(\u001b[0m\u001b[1;36m2\u001b[0m \u001b[1;33m*\u001b[0m \u001b[0mr_L\u001b[0m \u001b[1;33m*\u001b[0m \u001b[0mL\u001b[0m \u001b[1;33m*\u001b[0m \u001b[0mL\u001b[0m\u001b[1;33m)\u001b[0m \u001b[1;31m#(S)\u001b[0m\u001b[1;33m\u001b[0m\u001b[0m\n\u001b[1;32m---> 13\u001b[1;33m \u001b[0mgm\u001b[0m \u001b[1;33m=\u001b[0m \u001b[0mgk\u001b[0m \u001b[1;33m+\u001b[0m \u001b[0mgna\u001b[0m \u001b[1;33m+\u001b[0m \u001b[0mgl\u001b[0m\u001b[1;33m\u001b[0m\u001b[0m\n\u001b[0m\u001b[0;32m     14\u001b[0m \u001b[1;33m\u001b[0m\u001b[0m\n\u001b[0;32m     15\u001b[0m \u001b[1;31m#time steps\u001b[0m\u001b[1;33m\u001b[0m\u001b[1;33m\u001b[0m\u001b[0m\n",
      "\u001b[1;31mNameError\u001b[0m: name 'gk' is not defined"
     ]
    }
   ],
   "source": [
    "#initial conditions\n",
    "V0 = -0.065 #(V)\n",
    "m0 = 0.0529\n",
    "h0 = 0.5961\n",
    "n0 = 0.3177\n",
    "#parameters\n",
    "C_m = 0.01 #(F)\n",
    "L = 1e-6 #(m)\n",
    "a = 238e-6 #(m)\n",
    "r_L = 35.4e-3 #(ohm m)\n",
    "g = a / (2 * r_L * L * L) #(S)\n",
    "\n",
    "#time steps\n",
    "tmax = 1e-1 # s\n",
    "dt = 1e-3 # s\n",
    "N = int(tmax / dt) + 1\n",
    "t = np.linspace(0, tmax, N)"
   ]
  },
  {
   "cell_type": "code",
   "execution_count": 20,
   "metadata": {},
   "outputs": [
    {
     "ename": "NameError",
     "evalue": "name 'gm' is not defined",
     "output_type": "error",
     "traceback": [
      "\u001b[1;31m---------------------------------------------------------------------------\u001b[0m",
      "\u001b[1;31mNameError\u001b[0m                                 Traceback (most recent call last)",
      "\u001b[1;32m<ipython-input-20-c41a2d069eba>\u001b[0m in \u001b[0;36m<module>\u001b[1;34m\u001b[0m\n\u001b[1;32m----> 1\u001b[1;33m \u001b[0msolution\u001b[0m \u001b[1;33m=\u001b[0m \u001b[0mC_N\u001b[0m\u001b[1;33m(\u001b[0m\u001b[0mdt\u001b[0m\u001b[1;33m=\u001b[0m\u001b[0mdt\u001b[0m\u001b[1;33m,\u001b[0m \u001b[0mM\u001b[0m\u001b[1;33m=\u001b[0m\u001b[1;36m1\u001b[0m\u001b[1;33m,\u001b[0m \u001b[0mCm\u001b[0m\u001b[1;33m=\u001b[0m\u001b[0mC_m\u001b[0m\u001b[1;33m,\u001b[0m \u001b[0mg\u001b[0m\u001b[1;33m=\u001b[0m\u001b[0mg\u001b[0m\u001b[1;33m,\u001b[0m \u001b[0mA\u001b[0m\u001b[1;33m=\u001b[0m\u001b[0ma\u001b[0m\u001b[1;33m,\u001b[0m \u001b[0mgm\u001b[0m\u001b[1;33m=\u001b[0m\u001b[0mgm\u001b[0m\u001b[1;33m,\u001b[0m \u001b[0mI\u001b[0m\u001b[1;33m=\u001b[0m\u001b[0mI\u001b[0m\u001b[1;33m,\u001b[0m \u001b[0mIe\u001b[0m\u001b[1;33m=\u001b[0m\u001b[0mIe\u001b[0m\u001b[1;33m[\u001b[0m\u001b[1;33m:\u001b[0m\u001b[1;33m,\u001b[0m \u001b[0mi\u001b[0m\u001b[1;33m]\u001b[0m\u001b[1;33m,\u001b[0m \u001b[0mV\u001b[0m\u001b[1;33m=\u001b[0m\u001b[0mV\u001b[0m\u001b[1;33m[\u001b[0m\u001b[1;33m:\u001b[0m\u001b[1;33m,\u001b[0m \u001b[0mi\u001b[0m\u001b[1;33m]\u001b[0m\u001b[1;33m)\u001b[0m\u001b[1;33m\u001b[0m\u001b[0m\n\u001b[0m",
      "\u001b[1;31mNameError\u001b[0m: name 'gm' is not defined"
     ]
    }
   ],
   "source": [
    "for i in range(5):\n",
    "    gm = gk + gna + gl\n",
    "    solution = C_N(dt=dt, M=1, Cm=C_m, g=g, A=a, gm=gm, I=I, Ie=Ie[:, i], V=V[:, i])"
   ]
  },
  {
   "cell_type": "code",
   "execution_count": null,
   "metadata": {},
   "outputs": [],
   "source": [
    "#plot the solution to the HHM\n",
    "I_e = 0 #(A)\n",
    "initial = [V0,n0,m0,h0]\n",
    "parameters = (C_m, I_e, E_na, E_k, E_leak, g_na, g_k, g_leak, I_following)\n",
    "\n",
    "plt.plot(t,solution[:,0])\n",
    "plt.title('Membrane Voltage with $I_e = 0$')\n",
    "plt.ylabel('voltage [mV]')\n",
    "plt.xlabel('time [t]')\n",
    "plt.grid()\n",
    "\n",
    "#fix offset\n",
    "ax = plt.gca()\n",
    "ax.ticklabel_format(useOffset=False)\n",
    "plt.show()"
   ]
  }
 ],
 "metadata": {
  "kernelspec": {
   "display_name": "Python 3",
   "language": "python",
   "name": "python3"
  },
  "language_info": {
   "codemirror_mode": {
    "name": "ipython",
    "version": 3
   },
   "file_extension": ".py",
   "mimetype": "text/x-python",
   "name": "python",
   "nbconvert_exporter": "python",
   "pygments_lexer": "ipython3",
   "version": "3.7.0"
  }
 },
 "nbformat": 4,
 "nbformat_minor": 2
}
