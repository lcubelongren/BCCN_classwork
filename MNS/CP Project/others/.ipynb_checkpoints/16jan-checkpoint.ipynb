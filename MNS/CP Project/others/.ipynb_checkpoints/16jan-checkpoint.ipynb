{
 "cells": [
  {
   "cell_type": "markdown",
   "metadata": {},
   "source": [
    "#### **Models of Neural Systems, WS 2019/20**\n",
    "\n",
    "**Project 2: Action potential propagation**\n",
    "\n",
    "Contributors: Luke, Andrey, Roopa"
   ]
  },
  {
   "cell_type": "markdown",
   "metadata": {},
   "source": [
    "**1. Numerically solve the cable equation (equation 1) when injecting a steady depolarizing\n",
    "current halfway along the cable. Consider that the membrane is passive,\n",
    "i.e. $ i_m = \\frac{(V - E_L)}{r_m} $, where $r_m$ is the specific membrane resistance. Take\n",
    "$r_m = 20 k \\Omega cm^2$, $r_L = 200 \\Omega cm$, $c_m = 1 \\mu F/cm^2$, and cable radius $a = 2 \\mu m$.\n",
    "Compare the solution to the analytical solution of the infinite cable.**"
   ]
  },
  {
   "cell_type": "markdown",
   "metadata": {},
   "source": [
    "#### CABLE EQUATION"
   ]
  },
  {
   "cell_type": "code",
   "execution_count": 1,
   "metadata": {},
   "outputs": [],
   "source": [
    "def cable(V0,t0,tmax,i_t,stepSize, **kwargs):\n",
    "    #when dV/dt = 0\n",
    "    dV_dx = np.divide(np.dot((kwargs[\"i_m\"] - kwargs[\"i_e\"]),np.power(kwargs[\"a\"],2)), (2*kwargs[\"a\"]*kwargs[\"r_L\"]))\n",
    "    return dV_dx"
   ]
  },
  {
   "cell_type": "markdown",
   "metadata": {},
   "source": [
    "#### EULER"
   ]
  },
  {
   "cell_type": "code",
   "execution_count": 2,
   "metadata": {},
   "outputs": [],
   "source": [
    "def euler_2order(f_func, X, t0, tmax, stepSize,**kwargs):\n",
    "    X = np.atleast_2d(X)\n",
    "    ndim = X.ndim\n",
    "    Y = np.expand_dims(X, axis=ndim)\n",
    "    T = np.linspace(t0,tmax, int(tmax/stepSize)+1)\n",
    "    for i_t, t in tqdm(enumerate(T)):\n",
    "        if i_t == 0:\n",
    "            continue\n",
    "        elif i_t > 0:\n",
    "            dV_dx2 = f_func(X,t0,tmax,i_t,stepSize, **kwargs)\n",
    "            X = X + np.dot(dV_dx2,(stepSize))\n",
    "            Y = np.concatenate([Y, X[...,None]], axis=ndim)\n",
    "    return Y,T"
   ]
  },
  {
   "cell_type": "code",
   "execution_count": 8,
   "metadata": {},
   "outputs": [
    {
     "name": "stderr",
     "output_type": "stream",
     "text": [
      "2501it [00:45, 55.30it/s] \n"
     ]
    }
   ],
   "source": [
    "import numpy as np\n",
    "from tqdm import tqdm\n",
    "\n",
    "#question 1\n",
    "#solve for only half! We start in the middle, and the axon is symmetric.\n",
    "\n",
    "#initial values\n",
    "V0 = -70 #mV, set arbitrarily (needs to be close to Vrest to use linear approximation)\n",
    "L = 0.5 #meter - because only need to solve half of (1m-long) axon\n",
    "dx = 2*(10**-4) #200 micrometers\n",
    "dt = 1*(10**-5) #0.01 ms\n",
    "z = 0.5\n",
    "\n",
    "#more variables\n",
    "i_e = np.full_like(V0,-50 * (10**-12)) #pA\n",
    "E_L = -65 * (10**-3) #resting potential\n",
    "r_m = 20 * (10**3) * (10**-4) #SI units\n",
    "r_L = 200 * (10**-2) #SI units\n",
    "i_m = np.divide((V0 - E_L),r_m) #gives array size of V0 (size of length of num of compartments)\n",
    "a = 2*(10**-6)#radius of cable\n",
    "\n",
    "#calc remaining required variables\n",
    "nodes = int(L/dx)+1\n",
    "L_vec = np.linspace(0,L,nodes) #nodes along axon\n",
    "V0_vec = np.full_like(L_vec, V0) #initial conditions: all Vs = V0\n",
    "\n",
    "#inject current\n",
    "def inject(x, i_m,r_m):\n",
    "    x[0] = x[0] + i_m*r_m\n",
    "    return x\n",
    "\n",
    "V0_vec = inject(V0_vec, i_m,r_m)\n",
    "\n",
    "#print(\"V0\",V0_vec)\n",
    "\n",
    "#euler 2nd order ODE\n",
    "Y,T = euler_2order(cable, V0_vec, 0, L, dx, i_m=i_m,i_e=i_e,a=a,r_L=r_L)\n",
    "#print(Y,T)"
   ]
  },
  {
   "cell_type": "code",
   "execution_count": 9,
   "metadata": {},
   "outputs": [
    {
     "data": {
      "image/png": "[encoded data removed]",
      "text/plain": [
       "<Figure size 360x288 with 1 Axes>"
      ]
     },
     "metadata": {
      "needs_background": "light"
     },
     "output_type": "display_data"
    }
   ],
   "source": [
    "import matplotlib.pyplot as plt\n",
    "import matplotlib.ticker as ticker\n",
    "\n",
    "#PLOT\n",
    "plt.rcParams[\"figure.figsize\"] = [5,4]\n",
    "plt.plot(list(reversed(-T[1:]))+list(T),list(reversed(Y[0,0,1:]))+list(Y[0,0,:]))\n",
    "plt.xlabel('distance along axon from midpoint (m)')\n",
    "plt.ylabel('voltage (mV)')\n",
    "plt.ticklabel_format(useOffset=False)\n",
    "plt.subplots_adjust(left=0.15, top=0.85)\n",
    "plt.suptitle(\"Membrane voltage along axon\")\n",
    "plt.show()"
   ]
  },
  {
   "cell_type": "markdown",
   "metadata": {},
   "source": [
    "**2. Implement the Hodgkin-Huxley model of action potential propagation in the\n",
    "squid giant axon. Solve the partial differential equation using the Crank-Nicholson\n",
    "method (see e.g. Chapters 5.5, 5.6 and 6.6B from Dayan and Abbott, 2001). Take\n",
    "$a = 238 \\mu m$ and $r_L = 35.4 \\Omega cm$. Note that you will need to include your\n",
    "code with the project report!**"
   ]
  },
  {
   "cell_type": "markdown",
   "metadata": {},
   "source": [
    "**3. Initiate an action potential on one end of the axon by injecting a current in the\n",
    "terminal compartment.**"
   ]
  },
  {
   "cell_type": "markdown",
   "metadata": {},
   "source": [
    "**4. Determine the action potential propagation velocity as a function of the axon\n",
    "radius.**"
   ]
  },
  {
   "cell_type": "markdown",
   "metadata": {},
   "source": [
    "**5. Initiate action potentials at both ends of the axon. Show that they annihilate\n",
    "when they collide.**"
   ]
  },
  {
   "cell_type": "markdown",
   "metadata": {},
   "source": [
    "**6. Simulate action potential propagation in a myelinated axon (see e.g. Chapter 6.4\n",
    "from Dayan and Abbott, 2001). Consider that the nodes of Ranvier (the unmyelinated\n",
    "spaces) are $2 \\mu m$ long and are located at 1 mm intervals along the axon.\n",
    "Also consider that myelin increases the resistance across the cell membrane by\n",
    "a factor of 5,000 and decreases the capacitance by a factor of 50.**"
   ]
  }
 ],
 "metadata": {
  "kernelspec": {
   "display_name": "Python 3",
   "language": "python",
   "name": "python3"
  },
  "language_info": {
   "codemirror_mode": {
    "name": "ipython",
    "version": 3
   },
   "file_extension": ".py",
   "mimetype": "text/x-python",
   "name": "python",
   "nbconvert_exporter": "python",
   "pygments_lexer": "ipython3",
   "version": "3.7.0"
  }
 },
 "nbformat": 4,
 "nbformat_minor": 4
}
