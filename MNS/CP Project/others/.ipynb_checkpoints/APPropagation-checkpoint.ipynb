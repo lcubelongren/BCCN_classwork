{
 "cells": [
  {
   "cell_type": "markdown",
   "metadata": {},
   "source": [
    "#### **Models of Neural Systems, WS 2019/20**\n",
    "\n",
    "**Project 2: Action potential propagation**\n",
    "\n",
    "Contributors: Luke, Andrey, Roopa"
   ]
  },
  {
   "cell_type": "markdown",
   "metadata": {},
   "source": [
    "**1. Numerically solve the cable equation (equation 1) when injecting a steady depolarizing\n",
    "current halfway along the cable. Consider that the membrane is passive,\n",
    "i.e. $ i_m = \\frac{(V - E_L)}{r_m} $, where $r_m$ is the specific membrane resistance. Take\n",
    "$r_m = 20 k \\Omega cm^2$, $r_L = 200 \\Omega cm$, $c_m = 1 \\mu F/cm^2$, and cable radius $a = 2 \\mu m$.\n",
    "Compare the solution to the analytical solution of the infinite cable.**"
   ]
  },
  {
   "cell_type": "markdown",
   "metadata": {},
   "source": [
    "### (A) ANALYTICAL SOLUTION: calculate analytical solution of infinite cable"
   ]
  },
  {
   "cell_type": "markdown",
   "metadata": {},
   "source": [
    "$ c_m \\frac{\\partial{V}}{\\partial{t}} = \\frac{1}{2ar_L} \\frac{\\partial}{\\partial{x}}\\left(a^2 \\frac{\\partial{V}}{\\partial{x}}\\right) - i_m + i_e$\n",
    "\n",
    "$ 0 = \\frac{1}{2ar_L} \\frac{\\partial}{\\partial{x}}\\left(a^2 \\frac{\\partial{V}}{\\partial{x}}\\right) - i_m + i_e\\qquad[\\because \\frac{\\partial{V}}{\\partial{t}}=0]$\n",
    "\n",
    "$ i_m - i_e = \\frac{1}{2ar_L} \\frac{\\partial}{\\partial{x}}\\left(a^2 \\frac{\\partial{V}}{\\partial{x}}\\right)$\n",
    "\n",
    "$ 2ar_L \\left(i_m - i_e\\right) = \\frac{\\partial}{\\partial{x}}\\left(a^2 \\frac{\\partial{V}}{\\partial{x}}\\right)$\n",
    "$ \\frac{2ar_L}{a^2} \\left(i_m - i_e\\right) = \\frac{\\partial}{\\partial{x}}\\left(\\frac{\\partial{V}}{\\partial{x}}\\right)$\n",
    "\n",
    "$ \\frac{\\partial{V}}{\\partial{x^2}} = \\frac{2ar_L}{a^2} \\left(i_m - i_e\\right) $\n",
    "\n",
    "$ \\frac{\\partial{V}}{\\partial{x^2}} = \\frac{2r_L}{a} \\left(i_m - i_e\\right) $\n",
    "\n",
    "$ \\frac{\\partial{V}}{\\partial{x^2}} = \\frac{2r_L}{a} \\left(\\frac{V}{r_m} - i_e\\right)\\qquad[\\because i_m = \\frac{v-E_L}{r_m}=\\frac{V}{r_m}] $\n",
    "\n",
    "$ \\frac{\\partial{V}}{\\partial{x^2}} = \\frac{2r_L}{ar_m}(V-i_er_m) $\n",
    "\n",
    "**Now:**\n",
    "\n",
    "We want the answer V(x) to be of the form $ e^{Ax} $.\n",
    "\n",
    "This would give: $ \\frac{\\partial{V}}{\\partial{x}} = Ae^{Ax} + C $\n",
    "\n",
    "Second derivative: $ \\frac{\\partial{V}}{\\partial{x^2}} = A^2e^{Ax} + CV + D $\n",
    "\n",
    "**Comparison to cable equation:**\n",
    "\n",
    "The cable equation (equation 1 from the question paper) was brought to the form $ \\frac{\\partial{V}}{\\partial{x^2}} = \\frac{2r_L}{ar_m}(V-i_er_m) $\n",
    "\n",
    "This means $ A^2 = \\frac{2r_L}{ar_m} $\n",
    "\n",
    "There is no pure \"V\" term, therefore: $ C = 0 $\n",
    "\n",
    "$ D = \\frac{2r_L}{ar_m}i_er_m $\n",
    "\n",
    "**Therefore, finally:**\n",
    "\n",
    "From $ \\frac{\\partial{V}}{\\partial{x^2}} = A^2e^{Ax} + CV + D $ :\n",
    "\n",
    "$ \\frac{\\partial{V}}{\\partial{x^2}} = {\\frac{2r_L}{ar_m}}e^{\\left({\\frac{2r_L}{ar_m}}\\right)^{\\frac{1}{2}} x} + \\frac{2r_L}{ar_m}i_er_m $"
   ]
  },
  {
   "cell_type": "markdown",
   "metadata": {},
   "source": [
    "### (B) NUMERICAL SOLUTION: calculate numerical solution, given finite cable"
   ]
  },
  {
   "cell_type": "markdown",
   "metadata": {},
   "source": [
    "#### CABLE EQUATION"
   ]
  },
  {
   "cell_type": "code",
   "execution_count": 1,
   "metadata": {},
   "outputs": [],
   "source": [
    "def cable(V0,t0,tmax,i_t,stepSize, **kwargs):\n",
    "    #when dV/dt = 0\n",
    "    dV_dx = np.divide(np.dot((kwargs[\"i_m\"] - kwargs[\"i_e\"]),np.power(kwargs[\"a\"],2)), (2*kwargs[\"a\"]*kwargs[\"r_L\"]))\n",
    "    return dV_dx"
   ]
  },
  {
   "cell_type": "markdown",
   "metadata": {},
   "source": [
    "#### EULER"
   ]
  },
  {
   "cell_type": "code",
   "execution_count": 2,
   "metadata": {},
   "outputs": [],
   "source": [
    "def euler_2order(f_func, X, t0, tmax, stepSize,**kwargs):\n",
    "    X = np.atleast_2d(X)\n",
    "    ndim = X.ndim\n",
    "    Y = np.expand_dims(X, axis=ndim)\n",
    "    T = np.linspace(t0,tmax, int(tmax/stepSize)+1)\n",
    "    for i_t, t in enumerate(T):\n",
    "        if i_t == 0:\n",
    "            continue\n",
    "        elif i_t > 0:\n",
    "            dV_dx2 = f_func(X,t0,tmax,i_t,stepSize, **kwargs)\n",
    "            X = X + np.dot(dV_dx2,(stepSize))\n",
    "            Y = np.concatenate([Y, X[...,None]], axis=ndim)\n",
    "    return Y,T"
   ]
  },
  {
   "cell_type": "code",
   "execution_count": 3,
   "metadata": {},
   "outputs": [
    {
     "name": "stdout",
     "output_type": "stream",
     "text": [
      "V0 [-139.935  -70.     -70.     -70.     -70.     -70.     -70.     -70.\n",
      "  -70.     -70.     -70.     -70.     -70.     -70.     -70.     -70.\n",
      "  -70.     -70.     -70.     -70.     -70.     -70.     -70.     -70.\n",
      "  -70.     -70.     -70.     -70.     -70.     -70.     -70.     -70.\n",
      "  -70.     -70.     -70.     -70.     -70.     -70.     -70.     -70.\n",
      "  -70.     -70.     -70.     -70.     -70.     -70.     -70.     -70.\n",
      "  -70.     -70.     -70.     -70.     -70.     -70.     -70.     -70.\n",
      "  -70.     -70.     -70.     -70.     -70.     -70.     -70.     -70.\n",
      "  -70.     -70.     -70.     -70.     -70.     -70.     -70.     -70.\n",
      "  -70.     -70.     -70.     -70.     -70.     -70.     -70.     -70.\n",
      "  -70.     -70.     -70.     -70.     -70.     -70.     -70.     -70.\n",
      "  -70.     -70.     -70.     -70.     -70.     -70.     -70.     -70.\n",
      "  -70.     -70.     -70.     -70.     -70.     -70.     -70.     -70.\n",
      "  -70.     -70.     -70.     -70.     -70.     -70.     -70.     -70.\n",
      "  -70.     -70.     -70.     -70.     -70.     -70.     -70.     -70.\n",
      "  -70.     -70.     -70.     -70.     -70.     -70.     -70.     -70.\n",
      "  -70.     -70.     -70.     -70.     -70.     -70.     -70.     -70.\n",
      "  -70.     -70.     -70.     -70.     -70.     -70.     -70.     -70.\n",
      "  -70.     -70.     -70.     -70.     -70.     -70.     -70.     -70.\n",
      "  -70.     -70.     -70.     -70.     -70.     -70.     -70.     -70.\n",
      "  -70.     -70.     -70.     -70.     -70.     -70.     -70.     -70.\n",
      "  -70.     -70.     -70.     -70.     -70.     -70.     -70.     -70.\n",
      "  -70.     -70.     -70.     -70.     -70.     -70.     -70.     -70.\n",
      "  -70.     -70.     -70.     -70.     -70.     -70.     -70.     -70.\n",
      "  -70.     -70.     -70.     -70.     -70.     -70.     -70.     -70.\n",
      "  -70.     -70.     -70.     -70.     -70.     -70.     -70.     -70.\n",
      "  -70.     -70.     -70.     -70.     -70.     -70.     -70.     -70.\n",
      "  -70.     -70.     -70.     -70.     -70.     -70.     -70.     -70.\n",
      "  -70.     -70.     -70.     -70.     -70.     -70.     -70.     -70.\n",
      "  -70.     -70.     -70.     -70.     -70.     -70.     -70.     -70.\n",
      "  -70.     -70.     -70.     -70.     -70.     -70.     -70.     -70.\n",
      "  -70.     -70.     -70.   ]\n",
      "[[[-139.935      -139.93500003 -139.93500007 ... -139.93500867\n",
      "   -139.93500871 -139.93500874]\n",
      "  [ -70.          -70.00000003  -70.00000007 ...  -70.00000867\n",
      "    -70.00000871  -70.00000874]\n",
      "  [ -70.          -70.00000003  -70.00000007 ...  -70.00000867\n",
      "    -70.00000871  -70.00000874]\n",
      "  ...\n",
      "  [ -70.          -70.00000003  -70.00000007 ...  -70.00000867\n",
      "    -70.00000871  -70.00000874]\n",
      "  [ -70.          -70.00000003  -70.00000007 ...  -70.00000867\n",
      "    -70.00000871  -70.00000874]\n",
      "  [ -70.          -70.00000003  -70.00000007 ...  -70.00000867\n",
      "    -70.00000871  -70.00000874]]] [0.    0.002 0.004 0.006 0.008 0.01  0.012 0.014 0.016 0.018 0.02  0.022\n",
      " 0.024 0.026 0.028 0.03  0.032 0.034 0.036 0.038 0.04  0.042 0.044 0.046\n",
      " 0.048 0.05  0.052 0.054 0.056 0.058 0.06  0.062 0.064 0.066 0.068 0.07\n",
      " 0.072 0.074 0.076 0.078 0.08  0.082 0.084 0.086 0.088 0.09  0.092 0.094\n",
      " 0.096 0.098 0.1   0.102 0.104 0.106 0.108 0.11  0.112 0.114 0.116 0.118\n",
      " 0.12  0.122 0.124 0.126 0.128 0.13  0.132 0.134 0.136 0.138 0.14  0.142\n",
      " 0.144 0.146 0.148 0.15  0.152 0.154 0.156 0.158 0.16  0.162 0.164 0.166\n",
      " 0.168 0.17  0.172 0.174 0.176 0.178 0.18  0.182 0.184 0.186 0.188 0.19\n",
      " 0.192 0.194 0.196 0.198 0.2   0.202 0.204 0.206 0.208 0.21  0.212 0.214\n",
      " 0.216 0.218 0.22  0.222 0.224 0.226 0.228 0.23  0.232 0.234 0.236 0.238\n",
      " 0.24  0.242 0.244 0.246 0.248 0.25  0.252 0.254 0.256 0.258 0.26  0.262\n",
      " 0.264 0.266 0.268 0.27  0.272 0.274 0.276 0.278 0.28  0.282 0.284 0.286\n",
      " 0.288 0.29  0.292 0.294 0.296 0.298 0.3   0.302 0.304 0.306 0.308 0.31\n",
      " 0.312 0.314 0.316 0.318 0.32  0.322 0.324 0.326 0.328 0.33  0.332 0.334\n",
      " 0.336 0.338 0.34  0.342 0.344 0.346 0.348 0.35  0.352 0.354 0.356 0.358\n",
      " 0.36  0.362 0.364 0.366 0.368 0.37  0.372 0.374 0.376 0.378 0.38  0.382\n",
      " 0.384 0.386 0.388 0.39  0.392 0.394 0.396 0.398 0.4   0.402 0.404 0.406\n",
      " 0.408 0.41  0.412 0.414 0.416 0.418 0.42  0.422 0.424 0.426 0.428 0.43\n",
      " 0.432 0.434 0.436 0.438 0.44  0.442 0.444 0.446 0.448 0.45  0.452 0.454\n",
      " 0.456 0.458 0.46  0.462 0.464 0.466 0.468 0.47  0.472 0.474 0.476 0.478\n",
      " 0.48  0.482 0.484 0.486 0.488 0.49  0.492 0.494 0.496 0.498 0.5  ]\n"
     ]
    }
   ],
   "source": [
    "import numpy as np\n",
    "\n",
    "#question 1\n",
    "#solve for only half! We start in the middle, and the axon is symmetric.\n",
    "\n",
    "#initial values\n",
    "V0 = -70 #mV, set arbitrarily (needs to be clsoe to Vrest to use linear approximation)\n",
    "L = 0.5 #meter - because only need to solve half of (1m-long) axon\n",
    "dx = 2*(10**-3) #2 micrometers\n",
    "dt = 1* (10**-5) #0.01 ms\n",
    "z = 0.5\n",
    "\n",
    "#more variables\n",
    "i_e = np.full_like(V0,-50 * (10**-12)) #pA\n",
    "E_L = -65 * (10**-3) #resting potential\n",
    "r_m = 20 * (10**3) * (10**-4) #SI units\n",
    "r_L = 200 * (10**-2) #SI units\n",
    "i_m = np.divide((V0 - E_L),r_m) #gives array size of V0 (size of length of num of compartments)\n",
    "a = 2*(10**-6)#radius of cable\n",
    "\n",
    "#calc remaining required variables\n",
    "nodes = int(L/dx)+1\n",
    "L_vec = np.linspace(0,L,nodes) #nodes along axon\n",
    "V0_vec = np.full_like(L_vec, V0) #initial conditions: all Vs = V0\n",
    "\n",
    "#inject current\n",
    "def inject(x, i_m,r_m):\n",
    "    x[0] = x[0] + i_m*r_m\n",
    "    return x\n",
    "\n",
    "V0_vec = inject(V0_vec, i_m,r_m)\n",
    "\n",
    "print(\"V0\",V0_vec)\n",
    "\n",
    "#euler 2nd order ODE\n",
    "Y,T = euler_2order(cable, V0_vec, 0, L, dx, i_m=i_m,i_e=i_e,a=a,r_L=r_L)\n",
    "print(Y,T)"
   ]
  },
  {
   "cell_type": "code",
   "execution_count": 5,
   "metadata": {},
   "outputs": [
    {
     "data": {
      "image/png": "[encoded data removed]",
      "text/plain": [
       "<Figure size 360x288 with 1 Axes>"
      ]
     },
     "metadata": {
      "needs_background": "light"
     },
     "output_type": "display_data"
    }
   ],
   "source": [
    "import matplotlib.pyplot as plt\n",
    "import matplotlib.ticker as ticker\n",
    "\n",
    "#PLOT\n",
    "plt.rcParams[\"figure.figsize\"] = [5,4]\n",
    "plt.plot(list(reversed(-T[1:]))+list(T),list(reversed(Y[0,0,1:]))+list(Y[0,0,:]))\n",
    "plt.xlabel('distance along axon from midpoint (m)')\n",
    "plt.ylabel('voltage (mV)')\n",
    "plt.ticklabel_format(useOffset=False)\n",
    "plt.subplots_adjust(left=0.15, top=0.85)\n",
    "plt.suptitle(\"Membrane voltage along axon\")\n",
    "plt.show()"
   ]
  },
  {
   "cell_type": "markdown",
   "metadata": {},
   "source": [
    "**2. Implement the Hodgkin-Huxley model of action potential propagation in the\n",
    "squid giant axon. Solve the partial differential equation using the Crank-Nicholson\n",
    "method (see e.g. Chapters 5.5, 5.6 and 6.6B from Dayan and Abbott, 2001). Take\n",
    "$a = 238 \\mu m$ and $r_L = 35.4 \\Omega cm$. Note that you will need to include your\n",
    "code with the project report!**"
   ]
  },
  {
   "cell_type": "markdown",
   "metadata": {},
   "source": [
    "**3. Initiate an action potential on one end of the axon by injecting a current in the\n",
    "terminal compartment.**"
   ]
  },
  {
   "cell_type": "markdown",
   "metadata": {},
   "source": [
    "**4. Determine the action potential propagation velocity as a function of the axon\n",
    "radius.**"
   ]
  },
  {
   "cell_type": "markdown",
   "metadata": {},
   "source": [
    "**5. Initiate action potentials at both ends of the axon. Show that they annihilate\n",
    "when they collide.**"
   ]
  },
  {
   "cell_type": "markdown",
   "metadata": {},
   "source": [
    "**6. Simulate action potential propagation in a myelinated axon (see e.g. Chapter 6.4\n",
    "from Dayan and Abbott, 2001). Consider that the nodes of Ranvier (the unmyelinated\n",
    "spaces) are $2 \\mu m$ long and are located at 1 mm intervals along the axon.\n",
    "Also consider that myelin increases the resistance across the cell membrane by\n",
    "a factor of 5,000 and decreases the capacitance by a factor of 50.**"
   ]
  }
 ],
 "metadata": {
  "kernelspec": {
   "display_name": "Python 3",
   "language": "python",
   "name": "python3"
  },
  "language_info": {
   "codemirror_mode": {
    "name": "ipython",
    "version": 3
   },
   "file_extension": ".py",
   "mimetype": "text/x-python",
   "name": "python",
   "nbconvert_exporter": "python",
   "pygments_lexer": "ipython3",
   "version": "3.7.0"
  }
 },
 "nbformat": 4,
 "nbformat_minor": 4
}
