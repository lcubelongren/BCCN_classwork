{
 "cells": [
  {
   "cell_type": "markdown",
   "metadata": {},
   "source": [
    "###  Numerically solve the cable equation "
   ]
  },
  {
   "cell_type": "markdown",
   "metadata": {},
   "source": [
    "## $c_m \\frac{\\partial V}{\\partial t} = \\frac{1}{2ar_L} \\frac{\\partial}{\\partial x} (a^2 \\frac{\\partial V}{\\partial x}) - i_m + i_e$"
   ]
  },
  {
   "cell_type": "markdown",
   "metadata": {},
   "source": [
    "### Consider that the membrane is passive"
   ]
  },
  {
   "cell_type": "markdown",
   "metadata": {},
   "source": [
    "## $i_m = \\frac{(V-E_L)}{r_m}$"
   ]
  },
  {
   "cell_type": "markdown",
   "metadata": {},
   "source": [
    "Take $r_m$ = 20 kΩ cm2, $r_L$ = 200 Ω cm, $c_m$ = 1 µF/cm2, and cable radius $a$ = 2 µm."
   ]
  },
  {
   "cell_type": "markdown",
   "metadata": {},
   "source": [
    "# -------------------------------------------------------------------------------"
   ]
  },
  {
   "cell_type": "markdown",
   "metadata": {},
   "source": [
    "Multiplying by $r_m$ on both sides gives:"
   ]
  },
  {
   "cell_type": "markdown",
   "metadata": {},
   "source": [
    "## $\\frac{\\partial V}{\\partial t} = \\frac{r_m}{2ar_L} \\frac{\\partial}{\\partial x} (a^2 \\frac{\\partial V}{\\partial x}) - (V-E_L) + i_e r_m$"
   ]
  },
  {
   "cell_type": "markdown",
   "metadata": {},
   "source": [
    "Where $a$ is independent of $x$ here, thus:"
   ]
  },
  {
   "cell_type": "markdown",
   "metadata": {},
   "source": [
    "## $\\frac{\\partial V}{\\partial t} = \\frac{a r_m}{2r_L} \\frac{\\partial^2 V}{\\partial x^2} - (V-E_L) + i_e r_m$"
   ]
  },
  {
   "cell_type": "markdown",
   "metadata": {},
   "source": [
    "Now let's use the Crank-Nicholson method to solve the PDE."
   ]
  },
  {
   "cell_type": "code",
   "execution_count": 1,
   "metadata": {},
   "outputs": [],
   "source": [
    "import numpy as np\n",
    "import matplotlib.pyplot as plt"
   ]
  },
  {
   "cell_type": "code",
   "execution_count": 47,
   "metadata": {},
   "outputs": [],
   "source": [
    "r_m = 20e3 #(ohm cm^2)\n",
    "r_L = 200 #(ohm cm)\n",
    "c_m = 1e-9 #(F cm^-2)   \n",
    "a = 2e-9 #(m)\n",
    "E_L = 5e-3\n",
    "i_e = 0 \n",
    "A = a*r_m/(2*a*r_L)"
   ]
  },
  {
   "cell_type": "code",
   "execution_count": 48,
   "metadata": {},
   "outputs": [],
   "source": [
    "dx = 0.05\n",
    "dt = 0.05\n",
    "x_max = 10\n",
    "t_max = 10"
   ]
  },
  {
   "cell_type": "code",
   "execution_count": 49,
   "metadata": {},
   "outputs": [],
   "source": [
    "def CN_method(dx,dt,x_max,t_max,A,E_L,i_e,r_m):\n",
    "    rhs = lambda t: A * (dt/dx) ** 2 - (t - E_L) + (i_e * r_m)\n",
    "    x = np.arange(0,x_max+dx,dx)\n",
    "    t = np.arange(0,t_max+dt,dt)\n",
    "    V = np.zeros([len(x),len(t)])\n",
    "    \n",
    "    for i in range(0,len(t)-1): #i is time\n",
    "        for j in range(1,len(x)-1): #j is space\n",
    "            V[i+1,j] = V[i,j] + (dt/2) * (rhs(i+1) + rhs(i))\n",
    "    return t,x,V"
   ]
  },
  {
   "cell_type": "code",
   "execution_count": 50,
   "metadata": {},
   "outputs": [
    {
     "data": {
      "image/png": "[encoded data removed]",
      "text/plain": [
       "<Figure size 432x288 with 2 Axes>"
      ]
     },
     "metadata": {
      "needs_background": "light"
     },
     "output_type": "display_data"
    }
   ],
   "source": [
    "solution = CN_method(dx,dt,x_max,t_max,A,E_L,i_e,r_m)\n",
    "tt, xx = np.meshgrid(solution[0], solution[1])\n",
    "plt.scatter(tt,xx,c=solution[2])\n",
    "plt.xlabel('time')\n",
    "plt.ylabel('space')\n",
    "plt.colorbar()\n",
    "plt.show()"
   ]
  },
  {
   "cell_type": "code",
   "execution_count": null,
   "metadata": {},
   "outputs": [],
   "source": []
  }
 ],
 "metadata": {
  "kernelspec": {
   "display_name": "Python 3",
   "language": "python",
   "name": "python3"
  },
  "language_info": {
   "codemirror_mode": {
    "name": "ipython",
    "version": 3
   },
   "file_extension": ".py",
   "mimetype": "text/x-python",
   "name": "python",
   "nbconvert_exporter": "python",
   "pygments_lexer": "ipython3",
   "version": "3.7.0"
  }
 },
 "nbformat": 4,
 "nbformat_minor": 2
}
